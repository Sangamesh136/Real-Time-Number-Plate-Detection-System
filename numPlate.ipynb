{
 "cells": [
  {
   "cell_type": "code",
   "execution_count": null,
   "metadata": {},
   "outputs": [],
   "source": [
    "%pip install opencv-python torch torchvision easyocr\n"
   ]
  },
  {
   "cell_type": "code",
   "execution_count": null,
   "metadata": {},
   "outputs": [],
   "source": [
    "import torch\n",
    "import cv2\n",
    "\n",
    "# Load pre-trained YOLO model\n",
    "model = torch.hub.load('ultralytics/yolov5', 'yolov5s')  # Replace 'yolov5s' with your specific model\n",
    "results = model('D:\\clg\\FinalProject\\yolov10_speed_detection-main\\images\\cropped_triggered_frame_3.jpg')\n",
    "\n",
    "# Extract bounding boxes and crop license plate area\n",
    "for detection in results.xyxy[0]:  # Iterate through detections\n",
    "    x1, y1, x2, y2, conf, cls = detection  # Coordinates and class\n",
    "    if cls == 0:  # Adjust the class ID based on your model\n",
    "        plate = image[int(y1):int(y2), int(x1):int(x2)]\n"
   ]
  }
 ],
 "metadata": {
  "kernelspec": {
   "display_name": "cuda_test",
   "language": "python",
   "name": "python3"
  },
  "language_info": {
   "name": "python",
   "version": "3.8.20"
  }
 },
 "nbformat": 4,
 "nbformat_minor": 2
}
